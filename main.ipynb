{
 "cells": [
  {
   "attachments": {},
   "cell_type": "markdown",
   "metadata": {},
   "source": [
    "### 1. Copy/Paste your shopping list into input1.txt and run the block below:"
   ]
  },
  {
   "cell_type": "code",
   "execution_count": 6,
   "metadata": {},
   "outputs": [],
   "source": [
    "import re\n",
    "\n",
    "# Regular expression pattern to match numbers just to the right of \"DMC\"\n",
    "pattern = r\"DMC\\s+(\\d+)\"\n",
    "\n",
    "# Open input and output files\n",
    "with open(\"input1.txt\", \"r\") as input_file, open(\"output1.txt\", \"w\") as output_file:\n",
    "    # Loop through each line in the input file\n",
    "    for line in input_file:\n",
    "        # Extract numbers from the current line using regular expressions\n",
    "        numbers = [int(match.group(1)) for match in re.finditer(pattern, line)]\n",
    "        # Write the numbers to the output file as a comma-separated list\n",
    "        output_file.write(\",\".join(str(n) for n in numbers) + \"\\n\")\n",
    "        # Close the input and output files\n",
    "    input_file.close()\n",
    "    output_file.close()\n",
    "\n",
    "# Open the output file for post-processing\n",
    "with open(\"output2.txt\", \"r\") as output_file:\n",
    "    # Read the contents of the file and remove blank lines\n",
    "    lines = output_file.readlines()\n",
    "    lines = filter(lambda x: not x.isspace(), lines)\n",
    "\n",
    "# Open the output file again and write the cleaned-up contents\n",
    "with open(\"output2.txt\", \"w\") as output_file:\n",
    "    output_file.writelines(lines)\n"
   ]
  },
  {
   "attachments": {},
   "cell_type": "markdown",
   "metadata": {},
   "source": [
    "### 2. Copy/Paste your pattern list into input2.txt and run the block below:"
   ]
  },
  {
   "cell_type": "code",
   "execution_count": 11,
   "metadata": {},
   "outputs": [],
   "source": [
    "pattern = r\"DMC\\s+(\\d+)\"\n",
    "\n",
    "with open(\"input2.txt\", \"r\") as input_file, open(\"output2.txt\", \"w\") as output_file:\n",
    "    for line in input_file:\n",
    "        numbers = [int(match.group(1)) for match in re.finditer(pattern, line)]\n",
    "        output_file.write(\",\".join(str(n) for n in numbers) + \"\\n\")\n",
    "        \n",
    "    input_file.close()\n",
    "    output_file.close()\n",
    "\n",
    "with open(\"output2.txt\", \"r\") as output_file:\n",
    "    lines = output_file.readlines()\n",
    "    lines = filter(lambda x: not x.isspace(), lines)\n",
    "\n",
    "with open(\"output2.txt\", \"w\") as output_file:\n",
    "    output_file.writelines(lines)"
   ]
  },
  {
   "attachments": {},
   "cell_type": "markdown",
   "metadata": {},
   "source": [
    "### 3. Run the block below to generate the differences list in differences.txt:"
   ]
  },
  {
   "cell_type": "code",
   "execution_count": 12,
   "metadata": {},
   "outputs": [],
   "source": [
    "with open(\"output1.txt\", \"r\") as file1, open(\"output2.txt\", \"r\") as file2:\n",
    "    # Read the numbers from each file and convert to sets\n",
    "    numbers1 = set(map(int, file1.read().splitlines()))\n",
    "    numbers2 = set(map(int, file2.read().splitlines()))\n",
    "\n",
    "# Find the numbers in the second file that do not exist in the first file\n",
    "differences = list(numbers2.difference(numbers1))\n",
    "\n",
    "# Sort the list of differences in ascending order\n",
    "differences.sort()\n",
    "\n",
    "# Write the list of differences to an output file\n",
    "with open(\"differences.txt\", \"w\") as output_file:\n",
    "    output_file.write(\"\\n\".join(str(n) for n in differences))"
   ]
  }
 ],
 "metadata": {
  "kernelspec": {
   "display_name": "pytelebot",
   "language": "python",
   "name": "python3"
  },
  "language_info": {
   "codemirror_mode": {
    "name": "ipython",
    "version": 3
   },
   "file_extension": ".py",
   "mimetype": "text/x-python",
   "name": "python",
   "nbconvert_exporter": "python",
   "pygments_lexer": "ipython3",
   "version": "3.9.16"
  },
  "orig_nbformat": 4
 },
 "nbformat": 4,
 "nbformat_minor": 2
}
